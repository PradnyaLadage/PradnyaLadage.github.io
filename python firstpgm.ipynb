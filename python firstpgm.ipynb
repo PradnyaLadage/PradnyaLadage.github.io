{
 "cells": [
  {
   "cell_type": "code",
   "execution_count": 1,
   "metadata": {},
   "outputs": [
    {
     "name": "stdout",
     "output_type": "stream",
     "text": [
      "Hello World\n"
     ]
    }
   ],
   "source": [
    "print(\"Hello World\")"
   ]
  },
  {
   "cell_type": "code",
   "execution_count": 1,
   "metadata": {},
   "outputs": [
    {
     "name": "stdout",
     "output_type": "stream",
     "text": [
      "Hello World\n",
      "Welcome\n",
      "To Zeel\n",
      "Belgaum\n"
     ]
    }
   ],
   "source": [
    "print(\"Hello World\")\n",
    "print(\"Welcome\")\n",
    "print(\"To Zeel\")\n",
    "print(\"Belgaum\")"
   ]
  },
  {
   "cell_type": "code",
   "execution_count": 2,
   "metadata": {},
   "outputs": [],
   "source": [
    "a=5\n",
    "b=10.25\n",
    "string=\"Hello\"\n",
    "string1='world'"
   ]
  },
  {
   "cell_type": "code",
   "execution_count": 3,
   "metadata": {},
   "outputs": [
    {
     "data": {
      "text/plain": [
       "int"
      ]
     },
     "execution_count": 3,
     "metadata": {},
     "output_type": "execute_result"
    }
   ],
   "source": [
    "type(a)"
   ]
  },
  {
   "cell_type": "code",
   "execution_count": 4,
   "metadata": {},
   "outputs": [
    {
     "data": {
      "text/plain": [
       "float"
      ]
     },
     "execution_count": 4,
     "metadata": {},
     "output_type": "execute_result"
    }
   ],
   "source": [
    "type(b)"
   ]
  },
  {
   "cell_type": "code",
   "execution_count": 5,
   "metadata": {},
   "outputs": [
    {
     "data": {
      "text/plain": [
       "str"
      ]
     },
     "execution_count": 5,
     "metadata": {},
     "output_type": "execute_result"
    }
   ],
   "source": [
    "type(string)"
   ]
  },
  {
   "cell_type": "code",
   "execution_count": 6,
   "metadata": {},
   "outputs": [
    {
     "data": {
      "text/plain": [
       "bool"
      ]
     },
     "execution_count": 6,
     "metadata": {},
     "output_type": "execute_result"
    }
   ],
   "source": [
    "t=True\n",
    "f=False\n",
    "type(t)"
   ]
  },
  {
   "cell_type": "code",
   "execution_count": 7,
   "metadata": {},
   "outputs": [
    {
     "data": {
      "text/plain": [
       "bool"
      ]
     },
     "execution_count": 7,
     "metadata": {},
     "output_type": "execute_result"
    }
   ],
   "source": [
    "type(f)"
   ]
  },
  {
   "cell_type": "code",
   "execution_count": 8,
   "metadata": {},
   "outputs": [
    {
     "data": {
      "text/plain": [
       "NoneType"
      ]
     },
     "execution_count": 8,
     "metadata": {},
     "output_type": "execute_result"
    }
   ],
   "source": [
    "n=None\n",
    "type(n)"
   ]
  },
  {
   "cell_type": "code",
   "execution_count": 10,
   "metadata": {},
   "outputs": [
    {
     "name": "stdout",
     "output_type": "stream",
     "text": [
      "11.0\n"
     ]
    }
   ],
   "source": [
    "a=7.5\n",
    "b=3.5\n",
    "c=a+b\n",
    "print(c)"
   ]
  },
  {
   "cell_type": "code",
   "execution_count": 11,
   "metadata": {},
   "outputs": [
    {
     "data": {
      "text/plain": [
       "float"
      ]
     },
     "execution_count": 11,
     "metadata": {},
     "output_type": "execute_result"
    }
   ],
   "source": [
    "type(a)"
   ]
  },
  {
   "cell_type": "code",
   "execution_count": 12,
   "metadata": {},
   "outputs": [
    {
     "name": "stdout",
     "output_type": "stream",
     "text": [
      "15\n"
     ]
    }
   ],
   "source": [
    "a=10\n",
    "b=5\n",
    "print(a+b)\n"
   ]
  },
  {
   "cell_type": "code",
   "execution_count": 1,
   "metadata": {},
   "outputs": [
    {
     "name": "stdout",
     "output_type": "stream",
     "text": [
      "15\n"
     ]
    }
   ],
   "source": [
    "a,b=5,10\n",
    "print(a+b)"
   ]
  },
  {
   "cell_type": "code",
   "execution_count": 14,
   "metadata": {},
   "outputs": [
    {
     "name": "stdout",
     "output_type": "stream",
     "text": [
      "13\n"
     ]
    }
   ],
   "source": [
    "print(10+3)"
   ]
  },
  {
   "cell_type": "code",
   "execution_count": 15,
   "metadata": {},
   "outputs": [
    {
     "data": {
      "text/plain": [
       "'appleappleappleappleappleappleappleappleappleappleappleappleappleappleappleappleappleappleappleappleappleappleappleappleappleappleappleappleappleappleappleappleappleappleappleappleappleappleappleappleappleappleappleappleappleappleappleappleappleappleappleappleappleappleappleappleappleappleappleappleappleappleappleappleappleappleappleappleappleappleappleappleappleappleappleappleappleappleappleappleappleappleappleappleappleappleappleappleappleappleappleappleappleappleappleappleappleappleappleapple'"
      ]
     },
     "execution_count": 15,
     "metadata": {},
     "output_type": "execute_result"
    }
   ],
   "source": [
    "string=\"apple\"\n",
    "string*100"
   ]
  },
  {
   "cell_type": "code",
   "execution_count": 16,
   "metadata": {},
   "outputs": [
    {
     "data": {
      "text/plain": [
       "100"
      ]
     },
     "execution_count": 16,
     "metadata": {},
     "output_type": "execute_result"
    }
   ],
   "source": [
    "10**2"
   ]
  },
  {
   "cell_type": "code",
   "execution_count": 1,
   "metadata": {},
   "outputs": [
    {
     "name": "stdout",
     "output_type": "stream",
     "text": [
      "Out of function\n"
     ]
    }
   ],
   "source": [
    "def add():\n",
    "    a=10\n",
    "    b=35\n",
    "    print(a+b)\n",
    "\n",
    "def sub():\n",
    "    a=35\n",
    "    b=10\n",
    "    print(a-b)\n",
    "\n",
    "print(\"Out of function\")"
   ]
  },
  {
   "cell_type": "code",
   "execution_count": 2,
   "metadata": {},
   "outputs": [
    {
     "name": "stdout",
     "output_type": "stream",
     "text": [
      "45\n"
     ]
    }
   ],
   "source": [
    "add()"
   ]
  },
  {
   "cell_type": "code",
   "execution_count": 3,
   "metadata": {},
   "outputs": [
    {
     "name": "stdout",
     "output_type": "stream",
     "text": [
      "25\n"
     ]
    }
   ],
   "source": [
    "sub()"
   ]
  },
  {
   "cell_type": "code",
   "execution_count": 4,
   "metadata": {},
   "outputs": [],
   "source": [
    "def add():\n",
    "    a=int(input(\"Enter a value: \"))\n",
    "    b=int(input(\"Enter b value: \"))\n",
    "    print(a+b)"
   ]
  },
  {
   "cell_type": "code",
   "execution_count": null,
   "metadata": {},
   "outputs": [],
   "source": [
    "add()"
   ]
  },
  {
   "cell_type": "code",
   "execution_count": 5,
   "metadata": {},
   "outputs": [],
   "source": [
    "def add():\n",
    "    x=int(input(\"Enter a value: \"))\n",
    "    y=int(input(\"Enter b value: \"))\n",
    "    print(x+y)"
   ]
  },
  {
   "cell_type": "code",
   "execution_count": 6,
   "metadata": {},
   "outputs": [
    {
     "name": "stdout",
     "output_type": "stream",
     "text": [
      "Enter a value: 10\n",
      "Enter b value: 20\n",
      "30\n"
     ]
    }
   ],
   "source": [
    "add()"
   ]
  },
  {
   "cell_type": "code",
   "execution_count": 1,
   "metadata": {},
   "outputs": [
    {
     "name": "stdout",
     "output_type": "stream",
     "text": [
      "Enter a value: 10\n",
      "Enter b value: 5\n",
      "15\n"
     ]
    }
   ],
   "source": [
    "def add(a,b):\n",
    "    print(a+b)\n",
    "\n",
    "x=int(input(\"Enter a value: \"))\n",
    "y=int(input(\"Enter b value: \"))\n",
    "add(x,y)"
   ]
  },
  {
   "cell_type": "code",
   "execution_count": 1,
   "metadata": {},
   "outputs": [
    {
     "data": {
      "text/plain": [
       "Color               4816\n",
       " Black and White     209\n",
       "Name: color, dtype: int64"
      ]
     },
     "execution_count": 1,
     "metadata": {},
     "output_type": "execute_result"
    }
   ],
   "source": [
    "import pandas as pd\n",
    "df=pd.read_csv(\"movie.csv\")\n",
    "d=df['color'].value_counts()\n",
    "d"
   ]
  },
  {
   "cell_type": "code",
   "execution_count": 3,
   "metadata": {},
   "outputs": [
    {
     "data": {
      "text/plain": [
       "<matplotlib.axes._subplots.AxesSubplot at 0x19bb3237488>"
      ]
     },
     "execution_count": 3,
     "metadata": {},
     "output_type": "execute_result"
    },
    {
     "data": {
      "image/png": "[encoded data removed]",
      "text/plain": [
       "<Figure size 432x288 with 1 Axes>"
      ]
     },
     "metadata": {
      "needs_background": "light"
     },
     "output_type": "display_data"
    }
   ],
   "source": [
    "d=df['color'].value_counts()\n",
    "d[:2].plot(kind='bar')"
   ]
  },
  {
   "cell_type": "code",
   "execution_count": 4,
   "metadata": {},
   "outputs": [
    {
     "data": {
      "text/html": [
       "<div>\n",
       "<style scoped>\n",
       "    .dataframe tbody tr th:only-of-type {\n",
       "        vertical-align: middle;\n",
       "    }\n",
       "\n",
       "    .dataframe tbody tr th {\n",
       "        vertical-align: top;\n",
       "    }\n",
       "\n",
       "    .dataframe thead th {\n",
       "        text-align: right;\n",
       "    }\n",
       "</style>\n",
       "<table border=\"1\" class=\"dataframe\">\n",
       "  <thead>\n",
       "    <tr style=\"text-align: right;\">\n",
       "      <th></th>\n",
       "      <th>director_name</th>\n",
       "    </tr>\n",
       "  </thead>\n",
       "  <tbody>\n",
       "    <tr>\n",
       "      <td>0</td>\n",
       "      <td>James Cameron</td>\n",
       "    </tr>\n",
       "    <tr>\n",
       "      <td>1</td>\n",
       "      <td>Gore Verbinski</td>\n",
       "    </tr>\n",
       "    <tr>\n",
       "      <td>2</td>\n",
       "      <td>Sam Mendes</td>\n",
       "    </tr>\n",
       "    <tr>\n",
       "      <td>3</td>\n",
       "      <td>Christopher Nolan</td>\n",
       "    </tr>\n",
       "    <tr>\n",
       "      <td>4</td>\n",
       "      <td>Doug Walker</td>\n",
       "    </tr>\n",
       "    <tr>\n",
       "      <td>...</td>\n",
       "      <td>...</td>\n",
       "    </tr>\n",
       "    <tr>\n",
       "      <td>5038</td>\n",
       "      <td>Scott Smith</td>\n",
       "    </tr>\n",
       "    <tr>\n",
       "      <td>5039</td>\n",
       "      <td>NaN</td>\n",
       "    </tr>\n",
       "    <tr>\n",
       "      <td>5040</td>\n",
       "      <td>Benjamin Roberds</td>\n",
       "    </tr>\n",
       "    <tr>\n",
       "      <td>5041</td>\n",
       "      <td>Daniel Hsia</td>\n",
       "    </tr>\n",
       "    <tr>\n",
       "      <td>5042</td>\n",
       "      <td>Jon Gunn</td>\n",
       "    </tr>\n",
       "  </tbody>\n",
       "</table>\n",
       "<p>5043 rows × 1 columns</p>\n",
       "</div>"
      ],
      "text/plain": [
       "          director_name\n",
       "0         James Cameron\n",
       "1        Gore Verbinski\n",
       "2            Sam Mendes\n",
       "3     Christopher Nolan\n",
       "4           Doug Walker\n",
       "...                 ...\n",
       "5038        Scott Smith\n",
       "5039                NaN\n",
       "5040   Benjamin Roberds\n",
       "5041        Daniel Hsia\n",
       "5042           Jon Gunn\n",
       "\n",
       "[5043 rows x 1 columns]"
      ]
     },
     "execution_count": 4,
     "metadata": {},
     "output_type": "execute_result"
    }
   ],
   "source": [
    "df[['director_name']]"
   ]
  },
  {
   "cell_type": "code",
   "execution_count": 5,
   "metadata": {},
   "outputs": [
    {
     "data": {
      "text/html": [
       "<div>\n",
       "<style scoped>\n",
       "    .dataframe tbody tr th:only-of-type {\n",
       "        vertical-align: middle;\n",
       "    }\n",
       "\n",
       "    .dataframe tbody tr th {\n",
       "        vertical-align: top;\n",
       "    }\n",
       "\n",
       "    .dataframe thead th {\n",
       "        text-align: right;\n",
       "    }\n",
       "</style>\n",
       "<table border=\"1\" class=\"dataframe\">\n",
       "  <thead>\n",
       "    <tr style=\"text-align: right;\">\n",
       "      <th></th>\n",
       "      <th>genres</th>\n",
       "    </tr>\n",
       "  </thead>\n",
       "  <tbody>\n",
       "    <tr>\n",
       "      <td>0</td>\n",
       "      <td>Action|Adventure|Fantasy|Sci-Fi</td>\n",
       "    </tr>\n",
       "    <tr>\n",
       "      <td>1</td>\n",
       "      <td>Action|Adventure|Fantasy</td>\n",
       "    </tr>\n",
       "    <tr>\n",
       "      <td>2</td>\n",
       "      <td>Action|Adventure|Thriller</td>\n",
       "    </tr>\n",
       "    <tr>\n",
       "      <td>3</td>\n",
       "      <td>Action|Thriller</td>\n",
       "    </tr>\n",
       "    <tr>\n",
       "      <td>4</td>\n",
       "      <td>Documentary</td>\n",
       "    </tr>\n",
       "    <tr>\n",
       "      <td>...</td>\n",
       "      <td>...</td>\n",
       "    </tr>\n",
       "    <tr>\n",
       "      <td>5038</td>\n",
       "      <td>Comedy|Drama</td>\n",
       "    </tr>\n",
       "    <tr>\n",
       "      <td>5039</td>\n",
       "      <td>Crime|Drama|Mystery|Thriller</td>\n",
       "    </tr>\n",
       "    <tr>\n",
       "      <td>5040</td>\n",
       "      <td>Drama|Horror|Thriller</td>\n",
       "    </tr>\n",
       "    <tr>\n",
       "      <td>5041</td>\n",
       "      <td>Comedy|Drama|Romance</td>\n",
       "    </tr>\n",
       "    <tr>\n",
       "      <td>5042</td>\n",
       "      <td>Documentary</td>\n",
       "    </tr>\n",
       "  </tbody>\n",
       "</table>\n",
       "<p>5043 rows × 1 columns</p>\n",
       "</div>"
      ],
      "text/plain": [
       "                               genres\n",
       "0     Action|Adventure|Fantasy|Sci-Fi\n",
       "1            Action|Adventure|Fantasy\n",
       "2           Action|Adventure|Thriller\n",
       "3                     Action|Thriller\n",
       "4                         Documentary\n",
       "...                               ...\n",
       "5038                     Comedy|Drama\n",
       "5039     Crime|Drama|Mystery|Thriller\n",
       "5040            Drama|Horror|Thriller\n",
       "5041             Comedy|Drama|Romance\n",
       "5042                      Documentary\n",
       "\n",
       "[5043 rows x 1 columns]"
      ]
     },
     "execution_count": 5,
     "metadata": {},
     "output_type": "execute_result"
    }
   ],
   "source": [
    "df[['genres']]"
   ]
  },
  {
   "cell_type": "code",
   "execution_count": 6,
   "metadata": {},
   "outputs": [
    {
     "name": "stdout",
     "output_type": "stream",
     "text": [
      "                                                   movie_title\n",
      "country                                                       \n",
      "New Zealand         The Hobbit: The Battle of the Five Armies \n",
      "New Zealand                                         King Kong \n",
      "New Zealand  The Lord of the Rings: The Fellowship of the R...\n",
      "New Zealand                                 The Warrior's Way \n",
      "New Zealand                        The World's Fastest Indian \n",
      "New Zealand                                         King Kong \n",
      "New Zealand                                         The Piano \n",
      "New Zealand                                           Tracker \n",
      "New Zealand                                Heavenly Creatures \n",
      "New Zealand                                   Out of the Blue \n",
      "New Zealand                                       Whale Rider \n",
      "New Zealand                                         Abandoned \n",
      "New Zealand                                        Housebound \n",
      "New Zealand                         Antarctica: A Year on Ice \n",
      "New Zealand                                         King Kong \n"
     ]
    }
   ],
   "source": [
    "pd=df[['country','movie_title']]\n",
    "d=pd.set_index('country')\n",
    "result=d.loc['New Zealand']\n",
    "print(result)"
   ]
  },
  {
   "cell_type": "code",
   "execution_count": 8,
   "metadata": {},
   "outputs": [
    {
     "name": "stdout",
     "output_type": "stream",
     "text": [
      "                                                   movie_title\n",
      "country                                                       \n",
      "New Zealand         The Hobbit: The Battle of the Five Armies \n",
      "New Zealand                                         King Kong \n",
      "New Zealand  The Lord of the Rings: The Fellowship of the R...\n",
      "New Zealand                                 The Warrior's Way \n",
      "New Zealand                        The World's Fastest Indian \n",
      "New Zealand                                         King Kong \n",
      "New Zealand                                         The Piano \n",
      "New Zealand                                           Tracker \n",
      "New Zealand                                Heavenly Creatures \n",
      "New Zealand                                   Out of the Blue \n",
      "New Zealand                                       Whale Rider \n",
      "New Zealand                                         Abandoned \n",
      "New Zealand                                        Housebound \n",
      "New Zealand                         Antarctica: A Year on Ice \n",
      "New Zealand                                         King Kong \n",
      "                                  movie_title\n",
      "country                                      \n",
      "Japan                    Godzilla Resurgence \n",
      "Japan                    Godzilla Resurgence \n",
      "Japan                The Secret Life of Pets \n",
      "Japan                             Trainwreck \n",
      "Japan                         Street Fighter \n",
      "Japan                                  Ponyo \n",
      "Japan                 The Quick and the Dead \n",
      "Japan                  Harlock: Space Pirate \n",
      "Japan                      Tora! Tora! Tora! \n",
      "Japan                   Howl's Moving Castle \n",
      "Japan                        One Missed Call \n",
      "Japan    Yu-Gi-Oh! Duel Monsters             \n",
      "Japan                      Princess Mononoke \n",
      "Japan                               Steamboy \n",
      "Japan                          Spirited Away \n",
      "Japan                Space Battleship Yamato \n",
      "Japan                               Madadayo \n",
      "Japan                                  Akira \n",
      "Japan                                   R100 \n",
      "Japan                   Pokémon 3: The Movie \n",
      "Japan                          Godzilla 2000 \n",
      "Japan                          Seven Samurai \n",
      "Japan                               The Cure \n",
      "                        movie_title\n",
      "country                            \n",
      "Germany                  Alexander \n",
      "Germany              Stuart Little \n",
      "Germany  Where the Wild Things Are \n",
      "Germany              Blood Diamond \n",
      "Germany                Cloud Atlas \n",
      "...                             ...\n",
      "Germany        In Her Line of Fire \n",
      "Germany            Banshee Chapter \n",
      "Germany              Pandora's Box \n",
      "Germany            51 Birch Street \n",
      "Germany                          3 \n",
      "\n",
      "[97 rows x 1 columns]\n"
     ]
    }
   ],
   "source": [
    "pd=df[['country','movie_title']]\n",
    "d=pd.set_index('country')\n",
    "r=d.loc['UK']\n",
    "print(result)\n",
    "p=d.loc['Japan']\n",
    "print(p)\n",
    "s=d.loc['Germany']\n",
    "print(s)"
   ]
  },
  {
   "cell_type": "code",
   "execution_count": 9,
   "metadata": {},
   "outputs": [
    {
     "name": "stdout",
     "output_type": "stream",
     "text": [
      "                                                   movie_title\n",
      "budget                                                        \n",
      "237000000.0                                            Avatar \n",
      "300000000.0          Pirates of the Caribbean: At World's End \n",
      "245000000.0                                           Spectre \n",
      "250000000.0                             The Dark Knight Rises \n",
      "NaN          Star Wars: Episode VII - The Force Awakens    ...\n",
      "...                                                        ...\n",
      "NaN                                   Signed Sealed Delivered \n",
      "NaN                                 The Following             \n",
      "1400.0                                   A Plague So Pleasant \n",
      "NaN                                          Shanghai Calling \n",
      "1100.0                                      My Date with Drew \n",
      "\n",
      "[5043 rows x 1 columns]\n"
     ]
    }
   ],
   "source": [
    "df.nlargest(5,['budget'])\n",
    "pd=df[['movie_title','budget']]\n",
    "sd=pd.set_index('budget')\n",
    "print(sd)"
   ]
  },
  {
   "cell_type": "code",
   "execution_count": null,
   "metadata": {},
   "outputs": [],
   "source": []
  }
 ],
 "metadata": {
  "kernelspec": {
   "display_name": "Python 3",
   "language": "python",
   "name": "python3"
  },
  "language_info": {
   "codemirror_mode": {
    "name": "ipython",
    "version": 3
   },
   "file_extension": ".py",
   "mimetype": "text/x-python",
   "name": "python",
   "nbconvert_exporter": "python",
   "pygments_lexer": "ipython3",
   "version": "3.7.4"
  }
 },
 "nbformat": 4,
 "nbformat_minor": 2
}
